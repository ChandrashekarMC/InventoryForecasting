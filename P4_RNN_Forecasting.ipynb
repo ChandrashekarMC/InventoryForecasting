{
 "cells": [
  {
   "cell_type": "markdown",
   "metadata": {},
   "source": [
    "## Inventory Forecasting using RNN(LSTM)"
   ]
  },
  {
   "cell_type": "markdown",
   "metadata": {},
   "source": [
    "* For academic purpose, we are forecasting for one spare parts requirement only.\n",
    "* Similar method can be followed to forecast rest of the spare parts."
   ]
  },
  {
   "cell_type": "code",
   "execution_count": null,
   "metadata": {},
   "outputs": [],
   "source": [
    "\n",
    "\n",
    "# Importing the libraries\n",
    "import numpy as np\n",
    "import matplotlib.pyplot as plt\n",
    "import pandas as pd\n"
   ]
  },
  {
   "cell_type": "code",
   "execution_count": 2,
   "metadata": {},
   "outputs": [
    {
     "data": {
      "text/html": [
       "<div>\n",
       "<style scoped>\n",
       "    .dataframe tbody tr th:only-of-type {\n",
       "        vertical-align: middle;\n",
       "    }\n",
       "\n",
       "    .dataframe tbody tr th {\n",
       "        vertical-align: top;\n",
       "    }\n",
       "\n",
       "    .dataframe thead th {\n",
       "        text-align: right;\n",
       "    }\n",
       "</style>\n",
       "<table border=\"1\" class=\"dataframe\">\n",
       "  <thead>\n",
       "    <tr style=\"text-align: right;\">\n",
       "      <th></th>\n",
       "      <th>Date</th>\n",
       "      <th>Item</th>\n",
       "    </tr>\n",
       "  </thead>\n",
       "  <tbody>\n",
       "    <tr>\n",
       "      <th>0</th>\n",
       "      <td>2017-06-04</td>\n",
       "      <td>21</td>\n",
       "    </tr>\n",
       "    <tr>\n",
       "      <th>1</th>\n",
       "      <td>2017-06-11</td>\n",
       "      <td>38</td>\n",
       "    </tr>\n",
       "    <tr>\n",
       "      <th>2</th>\n",
       "      <td>2017-06-18</td>\n",
       "      <td>42</td>\n",
       "    </tr>\n",
       "  </tbody>\n",
       "</table>\n",
       "</div>"
      ],
      "text/plain": [
       "        Date  Item\n",
       "0 2017-06-04    21\n",
       "1 2017-06-11    38\n",
       "2 2017-06-18    42"
      ]
     },
     "execution_count": 2,
     "metadata": {},
     "output_type": "execute_result"
    }
   ],
   "source": [
    "# Importing the training set\n",
    "dataset_total = pd.read_excel('AIR_FILTER.xlsx')\n",
    "dataset_total.head(3)"
   ]
  },
  {
   "cell_type": "code",
   "execution_count": 3,
   "metadata": {},
   "outputs": [
    {
     "data": {
      "text/plain": [
       "(84, 2)"
      ]
     },
     "execution_count": 3,
     "metadata": {},
     "output_type": "execute_result"
    }
   ],
   "source": [
    "dataset_total.shape"
   ]
  },
  {
   "cell_type": "code",
   "execution_count": 4,
   "metadata": {},
   "outputs": [],
   "source": [
    "train_ds_count = 70\n",
    "test_ds_count  = 14\n",
    "rnn_lag = 12"
   ]
  },
  {
   "cell_type": "code",
   "execution_count": 5,
   "metadata": {},
   "outputs": [],
   "source": [
    "dataset_train = dataset_total[:train_ds_count]\n",
    "dataset_test  = dataset_total[train_ds_count:]\n",
    "\n",
    "training_set = dataset_train.iloc[:, 1:2].values"
   ]
  },
  {
   "cell_type": "code",
   "execution_count": 6,
   "metadata": {},
   "outputs": [],
   "source": [
    "# Feature Scaling\n",
    "from sklearn.preprocessing import MinMaxScaler\n",
    "sc = MinMaxScaler(feature_range = (0, 1))\n",
    "training_set_scaled = sc.fit_transform(training_set)\n"
   ]
  },
  {
   "cell_type": "code",
   "execution_count": 7,
   "metadata": {},
   "outputs": [],
   "source": [
    "# Creating a data structure with rnn_lag(12) timesteps and 1 output\n",
    "X_train = []\n",
    "y_train = []\n",
    "for i in range(rnn_lag, train_ds_count):\n",
    "    X_train.append(training_set_scaled[i-rnn_lag:i, 0])\n",
    "    y_train.append(training_set_scaled[i, 0])\n",
    "X_train, y_train = np.array(X_train), np.array(y_train)\n",
    "\n"
   ]
  },
  {
   "cell_type": "code",
   "execution_count": 8,
   "metadata": {},
   "outputs": [],
   "source": [
    "# Reshaping\n",
    "# The value 1 here indicates we are using only one predictor.\n",
    "# keras RNN expects data structure in 3 dimenstions as per keras documentation\n",
    "# (No. of weeks of data(54, last 30 used for prediction), No. of timesteps/lag(30)),  no of predictors)\n",
    "X_train = np.reshape(X_train, (X_train.shape[0], X_train.shape[1], 1))\n",
    "\n"
   ]
  },
  {
   "cell_type": "markdown",
   "metadata": {},
   "source": [
    "### Building the RNN"
   ]
  },
  {
   "cell_type": "code",
   "execution_count": 9,
   "metadata": {},
   "outputs": [
    {
     "name": "stderr",
     "output_type": "stream",
     "text": [
      "Using TensorFlow backend.\n"
     ]
    }
   ],
   "source": [
    "# Importing the Keras libraries and packages\n",
    "from keras.models import Sequential\n",
    "from keras.layers import Dense\n",
    "from keras.layers import LSTM\n",
    "from keras.layers import Dropout"
   ]
  },
  {
   "cell_type": "code",
   "execution_count": 10,
   "metadata": {},
   "outputs": [],
   "source": [
    "# Initialising the RNN\n",
    "regressor = Sequential()\n",
    "\n",
    "# Adding the first LSTM layer and some Dropout regularisation\n",
    "regressor.add(LSTM(units = 16, return_sequences = True, \n",
    "                   input_shape = (X_train.shape[1], 1)))\n",
    "#regressor.add(Dropout(0.2))\n",
    "\n",
    "# Adding a second LSTM layer and some Dropout regularisation\n",
    "regressor.add(LSTM(units = 16, return_sequences = True))\n",
    "#regressor.add(Dropout(0.2))\n",
    "\n",
    "# Adding a third LSTM layer and some Dropout regularisation\n",
    "regressor.add(LSTM(units = 16, return_sequences = True))\n",
    "#regressor.add(Dropout(0.2))\n",
    "\n",
    "# Adding a fourth LSTM layer and some Dropout regularisation\n",
    "regressor.add(LSTM(units = 16))\n",
    "#regressor.add(Dropout(0.2))\n",
    "\n",
    "# Adding the output layer\n",
    "regressor.add(Dense(units = 1))\n",
    "\n",
    "# Compiling the RNN\n",
    "regressor.compile(optimizer = 'adam', loss = 'mean_squared_error')\n"
   ]
  },
  {
   "cell_type": "code",
   "execution_count": 11,
   "metadata": {},
   "outputs": [
    {
     "name": "stdout",
     "output_type": "stream",
     "text": [
      "Epoch 1/100\n",
      "58/58 [==============================] - 7s 121ms/step - loss: 0.3184\n",
      "Epoch 2/100\n",
      "58/58 [==============================] - 1s 15ms/step - loss: 0.0530\n",
      "Epoch 3/100\n",
      "58/58 [==============================] - 1s 14ms/step - loss: 0.0357\n",
      "Epoch 4/100\n",
      "58/58 [==============================] - 1s 14ms/step - loss: 0.0312\n",
      "Epoch 5/100\n",
      "58/58 [==============================] - 1s 14ms/step - loss: 0.0263\n",
      "Epoch 6/100\n",
      "58/58 [==============================] - 1s 15ms/step - loss: 0.0274\n",
      "Epoch 7/100\n",
      "58/58 [==============================] - 1s 15ms/step - loss: 0.0257\n",
      "Epoch 8/100\n",
      "58/58 [==============================] - 1s 16ms/step - loss: 0.0273\n",
      "Epoch 9/100\n",
      "58/58 [==============================] - 1s 15ms/step - loss: 0.0257\n",
      "Epoch 10/100\n",
      "58/58 [==============================] - 1s 15ms/step - loss: 0.0272\n",
      "Epoch 11/100\n",
      "58/58 [==============================] - 1s 15ms/step - loss: 0.0277\n",
      "Epoch 12/100\n",
      "58/58 [==============================] - 1s 15ms/step - loss: 0.0256\n",
      "Epoch 13/100\n",
      "58/58 [==============================] - 1s 14ms/step - loss: 0.0264\n",
      "Epoch 14/100\n",
      "58/58 [==============================] - 1s 15ms/step - loss: 0.0262\n",
      "Epoch 15/100\n",
      "58/58 [==============================] - 1s 15ms/step - loss: 0.0261\n",
      "Epoch 16/100\n",
      "58/58 [==============================] - 1s 16ms/step - loss: 0.0264\n",
      "Epoch 17/100\n",
      "58/58 [==============================] - 1s 15ms/step - loss: 0.0267: 0s - loss:\n",
      "Epoch 18/100\n",
      "58/58 [==============================] - 1s 15ms/step - loss: 0.0257\n",
      "Epoch 19/100\n",
      "58/58 [==============================] - 1s 15ms/step - loss: 0.0269\n",
      "Epoch 20/100\n",
      "58/58 [==============================] - 1s 15ms/step - loss: 0.0265\n",
      "Epoch 21/100\n",
      "58/58 [==============================] - 1s 14ms/step - loss: 0.0271\n",
      "Epoch 22/100\n",
      "58/58 [==============================] - 1s 14ms/step - loss: 0.0273\n",
      "Epoch 23/100\n",
      "58/58 [==============================] - 1s 14ms/step - loss: 0.0260\n",
      "Epoch 24/100\n",
      "58/58 [==============================] - 1s 14ms/step - loss: 0.0260\n",
      "Epoch 25/100\n",
      "58/58 [==============================] - 1s 14ms/step - loss: 0.0275\n",
      "Epoch 26/100\n",
      "58/58 [==============================] - 1s 14ms/step - loss: 0.0259\n",
      "Epoch 27/100\n",
      "58/58 [==============================] - 1s 14ms/step - loss: 0.0273\n",
      "Epoch 28/100\n",
      "58/58 [==============================] - 1s 15ms/step - loss: 0.0260\n",
      "Epoch 29/100\n",
      "58/58 [==============================] - 1s 15ms/step - loss: 0.0258: 0s - loss: \n",
      "Epoch 30/100\n",
      "58/58 [==============================] - 1s 14ms/step - loss: 0.0256\n",
      "Epoch 31/100\n",
      "58/58 [==============================] - 1s 14ms/step - loss: 0.0263\n",
      "Epoch 32/100\n",
      "58/58 [==============================] - 1s 14ms/step - loss: 0.0279\n",
      "Epoch 33/100\n",
      "58/58 [==============================] - 1s 14ms/step - loss: 0.0303\n",
      "Epoch 34/100\n",
      "58/58 [==============================] - 1s 14ms/step - loss: 0.0263\n",
      "Epoch 35/100\n",
      "58/58 [==============================] - 1s 15ms/step - loss: 0.0266\n",
      "Epoch 36/100\n",
      "58/58 [==============================] - 1s 16ms/step - loss: 0.0260\n",
      "Epoch 37/100\n",
      "58/58 [==============================] - 1s 15ms/step - loss: 0.0261\n",
      "Epoch 38/100\n",
      "58/58 [==============================] - 1s 15ms/step - loss: 0.0259\n",
      "Epoch 39/100\n",
      "58/58 [==============================] - 1s 15ms/step - loss: 0.0267\n",
      "Epoch 40/100\n",
      "58/58 [==============================] - 1s 15ms/step - loss: 0.0259\n",
      "Epoch 41/100\n",
      "58/58 [==============================] - 1s 15ms/step - loss: 0.0282\n",
      "Epoch 42/100\n",
      "58/58 [==============================] - 1s 15ms/step - loss: 0.0276\n",
      "Epoch 43/100\n",
      "58/58 [==============================] - 1s 15ms/step - loss: 0.0298\n",
      "Epoch 44/100\n",
      "58/58 [==============================] - 1s 15ms/step - loss: 0.0259\n",
      "Epoch 45/100\n",
      "58/58 [==============================] - 1s 15ms/step - loss: 0.0255\n",
      "Epoch 46/100\n",
      "58/58 [==============================] - 1s 15ms/step - loss: 0.0270\n",
      "Epoch 47/100\n",
      "58/58 [==============================] - 1s 14ms/step - loss: 0.0267\n",
      "Epoch 48/100\n",
      "58/58 [==============================] - 1s 15ms/step - loss: 0.0264\n",
      "Epoch 49/100\n",
      "58/58 [==============================] - 1s 15ms/step - loss: 0.0264: 0s - \n",
      "Epoch 50/100\n",
      "58/58 [==============================] - 1s 14ms/step - loss: 0.0267\n",
      "Epoch 51/100\n",
      "58/58 [==============================] - 1s 14ms/step - loss: 0.0270\n",
      "Epoch 52/100\n",
      "58/58 [==============================] - 1s 15ms/step - loss: 0.0268\n",
      "Epoch 53/100\n",
      "58/58 [==============================] - 1s 15ms/step - loss: 0.0262\n",
      "Epoch 54/100\n",
      "58/58 [==============================] - 1s 15ms/step - loss: 0.0259\n",
      "Epoch 55/100\n",
      "58/58 [==============================] - 1s 15ms/step - loss: 0.0261\n",
      "Epoch 56/100\n",
      "58/58 [==============================] - 1s 14ms/step - loss: 0.0257\n",
      "Epoch 57/100\n",
      "58/58 [==============================] - 1s 16ms/step - loss: 0.0276\n",
      "Epoch 58/100\n",
      "58/58 [==============================] - 1s 15ms/step - loss: 0.0277\n",
      "Epoch 59/100\n",
      "58/58 [==============================] - 1s 14ms/step - loss: 0.0271\n",
      "Epoch 60/100\n",
      "58/58 [==============================] - 1s 15ms/step - loss: 0.0274\n",
      "Epoch 61/100\n",
      "58/58 [==============================] - 1s 15ms/step - loss: 0.0273\n",
      "Epoch 62/100\n",
      "58/58 [==============================] - 1s 15ms/step - loss: 0.0249: 0s - \n",
      "Epoch 63/100\n",
      "58/58 [==============================] - 1s 15ms/step - loss: 0.0283\n",
      "Epoch 64/100\n",
      "58/58 [==============================] - 1s 15ms/step - loss: 0.0275\n",
      "Epoch 65/100\n",
      "58/58 [==============================] - 1s 14ms/step - loss: 0.0282\n",
      "Epoch 66/100\n",
      "58/58 [==============================] - 1s 15ms/step - loss: 0.0263\n",
      "Epoch 67/100\n",
      "58/58 [==============================] - 1s 15ms/step - loss: 0.0253\n",
      "Epoch 68/100\n",
      "58/58 [==============================] - 1s 14ms/step - loss: 0.0262: 0s - \n",
      "Epoch 69/100\n",
      "58/58 [==============================] - 1s 15ms/step - loss: 0.0275\n",
      "Epoch 70/100\n",
      "58/58 [==============================] - 1s 15ms/step - loss: 0.0269\n",
      "Epoch 71/100\n",
      "58/58 [==============================] - 1s 14ms/step - loss: 0.0287\n",
      "Epoch 72/100\n",
      "58/58 [==============================] - 1s 15ms/step - loss: 0.0281: 0s - loss: \n",
      "Epoch 73/100\n",
      "58/58 [==============================] - 1s 15ms/step - loss: 0.0273\n",
      "Epoch 74/100\n",
      "58/58 [==============================] - 1s 15ms/step - loss: 0.0256\n",
      "Epoch 75/100\n",
      "58/58 [==============================] - 1s 14ms/step - loss: 0.0271\n",
      "Epoch 76/100\n",
      "58/58 [==============================] - 1s 14ms/step - loss: 0.0273\n",
      "Epoch 77/100\n",
      "58/58 [==============================] - 1s 14ms/step - loss: 0.0261\n",
      "Epoch 78/100\n",
      "58/58 [==============================] - 1s 15ms/step - loss: 0.0263\n",
      "Epoch 79/100\n",
      "58/58 [==============================] - 1s 16ms/step - loss: 0.0259\n",
      "Epoch 80/100\n",
      "58/58 [==============================] - 1s 15ms/step - loss: 0.0258\n",
      "Epoch 81/100\n",
      "58/58 [==============================] - 1s 15ms/step - loss: 0.0260: 0s - lo\n",
      "Epoch 82/100\n",
      "58/58 [==============================] - 1s 15ms/step - loss: 0.0260\n",
      "Epoch 83/100\n",
      "58/58 [==============================] - 1s 15ms/step - loss: 0.0258\n",
      "Epoch 84/100\n",
      "58/58 [==============================] - 1s 15ms/step - loss: 0.0267\n",
      "Epoch 85/100\n",
      "58/58 [==============================] - 1s 15ms/step - loss: 0.0260\n",
      "Epoch 86/100\n",
      "58/58 [==============================] - 1s 15ms/step - loss: 0.0256\n",
      "Epoch 87/100\n",
      "58/58 [==============================] - 1s 15ms/step - loss: 0.0259\n",
      "Epoch 88/100\n",
      "58/58 [==============================] - 1s 15ms/step - loss: 0.0256: 0s - loss\n",
      "Epoch 89/100\n",
      "58/58 [==============================] - 1s 14ms/step - loss: 0.0262\n",
      "Epoch 90/100\n",
      "58/58 [==============================] - 1s 15ms/step - loss: 0.0265\n",
      "Epoch 91/100\n",
      "58/58 [==============================] - ETA: 0s - loss: 0.028 - 1s 15ms/step - loss: 0.0277\n",
      "Epoch 92/100\n",
      "58/58 [==============================] - 1s 15ms/step - loss: 0.0268\n",
      "Epoch 93/100\n",
      "58/58 [==============================] - 1s 15ms/step - loss: 0.0258\n",
      "Epoch 94/100\n",
      "58/58 [==============================] - 1s 15ms/step - loss: 0.0269\n",
      "Epoch 95/100\n",
      "58/58 [==============================] - 1s 15ms/step - loss: 0.0258\n",
      "Epoch 96/100\n",
      "58/58 [==============================] - 1s 15ms/step - loss: 0.0277\n",
      "Epoch 97/100\n",
      "58/58 [==============================] - 1s 14ms/step - loss: 0.0262\n",
      "Epoch 98/100\n",
      "58/58 [==============================] - 1s 15ms/step - loss: 0.0262\n",
      "Epoch 99/100\n"
     ]
    },
    {
     "name": "stdout",
     "output_type": "stream",
     "text": [
      "58/58 [==============================] - 1s 14ms/step - loss: 0.0264\n",
      "Epoch 100/100\n",
      "58/58 [==============================] - 1s 14ms/step - loss: 0.0262\n"
     ]
    },
    {
     "data": {
      "text/plain": [
       "<keras.callbacks.callbacks.History at 0x260400d4208>"
      ]
     },
     "execution_count": 11,
     "metadata": {},
     "output_type": "execute_result"
    }
   ],
   "source": [
    "# Fitting the RNN to the Training set\n",
    "regressor.fit(X_train, y_train, epochs = 100, batch_size = 4)\n",
    "\n"
   ]
  },
  {
   "cell_type": "markdown",
   "metadata": {},
   "source": [
    "### Making the predictions and visualising the results"
   ]
  },
  {
   "cell_type": "code",
   "execution_count": 12,
   "metadata": {},
   "outputs": [],
   "source": [
    "\n",
    "#dataset_test = pd.read_csv('Google_Stock_Price_Test.csv')\n",
    "real_item_count = dataset_test.iloc[:, 1:2].values\n",
    "\n",
    "\n",
    "dataset_total = pd.concat((dataset_train['Item'], dataset_test['Item']), axis = 0)\n",
    "inputs = dataset_total[len(dataset_total) - len(dataset_test) - rnn_lag:].values\n",
    "inputs = inputs.reshape(-1,1)\n",
    "inputs = sc.transform(inputs)"
   ]
  },
  {
   "cell_type": "code",
   "execution_count": 13,
   "metadata": {},
   "outputs": [
    {
     "data": {
      "text/plain": [
       "(26, 1)"
      ]
     },
     "execution_count": 13,
     "metadata": {},
     "output_type": "execute_result"
    }
   ],
   "source": [
    "inputs.shape"
   ]
  },
  {
   "cell_type": "code",
   "execution_count": 14,
   "metadata": {},
   "outputs": [],
   "source": [
    "X_test = []\n",
    "for i in range(rnn_lag, rnn_lag + test_ds_count):\n",
    "    X_test.append(inputs[i-rnn_lag:i, 0])\n",
    "X_test = np.array(X_test)\n",
    "X_test = np.reshape(X_test, (X_test.shape[0], X_test.shape[1], 1))\n"
   ]
  },
  {
   "cell_type": "code",
   "execution_count": 15,
   "metadata": {},
   "outputs": [],
   "source": [
    "predicted_item_count = regressor.predict(X_test)\n",
    "predicted_item_count = sc.inverse_transform(predicted_item_count)\n"
   ]
  },
  {
   "cell_type": "code",
   "execution_count": 16,
   "metadata": {},
   "outputs": [
    {
     "data": {
      "text/plain": [
       "<matplotlib.legend.Legend at 0x26044c6b940>"
      ]
     },
     "execution_count": 16,
     "metadata": {},
     "output_type": "execute_result"
    },
    {
     "data": {
      "image/png": "[encoded data removed]",
      "text/plain": [
       "<Figure size 432x288 with 1 Axes>"
      ]
     },
     "metadata": {
      "needs_background": "light"
     },
     "output_type": "display_data"
    }
   ],
   "source": [
    "# Visualising the results\n",
    "plt.plot(real_item_count, color = 'red', label = 'Real Item Count')\n",
    "plt.plot(predicted_item_count, color = 'blue', label = 'Predicted Item Count')\n",
    "plt.title('AIR FILTER inventory forecast')\n",
    "plt.xlabel('Weeks')\n",
    "plt.ylabel('Item Required Count')\n",
    "plt.legend()\n"
   ]
  },
  {
   "cell_type": "markdown",
   "metadata": {},
   "source": [
    "### Evaluating the model"
   ]
  },
  {
   "cell_type": "code",
   "execution_count": null,
   "metadata": {},
   "outputs": [],
   "source": [
    "import math\n",
    "from sklearn.metrics import mean_squared_error\n",
    "rmse = math.sqrt(mean_squared_error(real_item_count, predicted_item_count))\n",
    "\n",
    "# rmse value of 50 is very high if the stock predicted stock price \n",
    "# are in the range 100, and very small if the it is 10000 range.\n",
    "# In our case, Jan2017 price is in the 800 range, rmse/800 is the relative error.\n",
    "rmse"
   ]
  },
  {
   "cell_type": "code",
   "execution_count": null,
   "metadata": {},
   "outputs": [],
   "source": []
  }
 ],
 "metadata": {
  "kernelspec": {
   "display_name": "Python 3",
   "language": "python",
   "name": "python3"
  },
  "language_info": {
   "codemirror_mode": {
    "name": "ipython",
    "version": 3
   },
   "file_extension": ".py",
   "mimetype": "text/x-python",
   "name": "python",
   "nbconvert_exporter": "python",
   "pygments_lexer": "ipython3",
   "version": "3.7.3"
  }
 },
 "nbformat": 4,
 "nbformat_minor": 2
}
